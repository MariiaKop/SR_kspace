{
 "cells": [
  {
   "cell_type": "code",
   "execution_count": 3,
   "metadata": {},
   "outputs": [],
   "source": [
    "import os\n",
    "import shutil\n",
    "\n",
    "import numpy as np\n",
    "import matplotlib.pyplot as plt\n",
    "from tqdm.notebook import tqdm\n",
    "\n",
    "from sklearn.model_selection import train_test_split\n",
    "import torch\n",
    "import torch.utils.data as torch_data\n",
    "from skimage.transform import resize"
   ]
  },
  {
   "cell_type": "code",
   "execution_count": 2,
   "metadata": {},
   "outputs": [],
   "source": [
    "PATH_TO_SOURCE_TRAIN = 'dl_bio/ax_t2_source_train'\n",
    "PATH_TO_SOURCE_VAL = 'dl_bio/ax_t2_source_val'\n",
    "PATH_TO_SOURCE_TEST = 'dl_bio/ax_t2_source_test'\n",
    "RANDOM_STATE = 42"
   ]
  },
  {
   "cell_type": "code",
   "execution_count": 7,
   "metadata": {},
   "outputs": [],
   "source": [
    "def npy_load(path):\n",
    "    with open(path, 'rb') as f:\n",
    "        return np.load(f)"
   ]
  },
  {
   "cell_type": "code",
   "execution_count": 32,
   "metadata": {},
   "outputs": [],
   "source": [
    "class SRGANMRIDataLoader(torch_data.Dataset):\n",
    "    def __init__(self, path_to_data, seed=None):\n",
    "        super().__init__()\n",
    "\n",
    "        self.images = [os.path.join(path_to_data, file) for file in os.listdir(path_to_data) \n",
    "                       if file.endswith('.npy')]\n",
    "        \n",
    "    def __len__(self):\n",
    "        return len(self.images)\n",
    "\n",
    "    def __getitem__(self, idx):\n",
    "        \n",
    "        slice = npy_load(self.images[idx])\n",
    "        resized = self.sample_resize(slice)\n",
    "        \n",
    "        return self.images[idx], slice, resized\n",
    "        \n",
    "    def sample_resize(self, slice):\n",
    "        slice_res = resize(slice[0], (160, 160), preserve_range=True)\n",
    "        slice_res = np.expand_dims(slice_res, axis=(0))\n",
    "#         print(slice.shape, slice_res.shape)\n",
    "        return slice_res"
   ]
  },
  {
   "cell_type": "code",
   "execution_count": 33,
   "metadata": {},
   "outputs": [],
   "source": [
    "train_loader = SRGANMRIDataLoader(PATH_TO_SOURCE_TEST, seed=RANDOM_STATE)"
   ]
  },
  {
   "cell_type": "code",
   "execution_count": 34,
   "metadata": {},
   "outputs": [],
   "source": [
    "name, slic, resized = train_loader.__getitem__(0)"
   ]
  },
  {
   "cell_type": "code",
   "execution_count": 35,
   "metadata": {},
   "outputs": [
    {
     "data": {
      "text/plain": [
       "((1, 320, 320), (1, 160, 160))"
      ]
     },
     "execution_count": 35,
     "metadata": {},
     "output_type": "execute_result"
    }
   ],
   "source": [
    "slic.shape, resized.shape"
   ]
  }
 ],
 "metadata": {
  "kernelspec": {
   "display_name": "Python 3",
   "language": "python",
   "name": "python3"
  },
  "language_info": {
   "codemirror_mode": {
    "name": "ipython",
    "version": 3
   },
   "file_extension": ".py",
   "mimetype": "text/x-python",
   "name": "python",
   "nbconvert_exporter": "python",
   "pygments_lexer": "ipython3",
   "version": "3.7.4"
  }
 },
 "nbformat": 4,
 "nbformat_minor": 4
}
